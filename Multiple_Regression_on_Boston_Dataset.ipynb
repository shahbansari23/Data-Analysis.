{
  "nbformat": 4,
  "nbformat_minor": 0,
  "metadata": {
    "kernelspec": {
      "display_name": "Python 3",
      "language": "python",
      "name": "python3"
    },
    "language_info": {
      "codemirror_mode": {
        "name": "ipython",
        "version": 3
      },
      "file_extension": ".py",
      "mimetype": "text/x-python",
      "name": "python",
      "nbconvert_exporter": "python",
      "pygments_lexer": "ipython3",
      "version": "3.8.5"
    },
    "colab": {
      "name": "Multiple Regression on Boston Dataset.ipynb",
      "provenance": []
    }
  },
  "cells": [
    {
      "cell_type": "code",
      "metadata": {
        "id": "mRxqilEidNIv"
      },
      "source": [
        "from sklearn import datasets \n",
        "data = datasets.load_boston() "
      ],
      "execution_count": null,
      "outputs": []
    },
    {
      "cell_type": "code",
      "metadata": {
        "id": "2dmDxTN-dNJF",
        "outputId": "2c29613c-7b77-4913-da02-dcd53915023f"
      },
      "source": [
        "data.DESCR"
      ],
      "execution_count": null,
      "outputs": [
        {
          "data": {
            "text/plain": [
              "\".. _boston_dataset:\\n\\nBoston house prices dataset\\n---------------------------\\n\\n**Data Set Characteristics:**  \\n\\n    :Number of Instances: 506 \\n\\n    :Number of Attributes: 13 numeric/categorical predictive. Median Value (attribute 14) is usually the target.\\n\\n    :Attribute Information (in order):\\n        - CRIM     per capita crime rate by town\\n        - ZN       proportion of residential land zoned for lots over 25,000 sq.ft.\\n        - INDUS    proportion of non-retail business acres per town\\n        - CHAS     Charles River dummy variable (= 1 if tract bounds river; 0 otherwise)\\n        - NOX      nitric oxides concentration (parts per 10 million)\\n        - RM       average number of rooms per dwelling\\n        - AGE      proportion of owner-occupied units built prior to 1940\\n        - DIS      weighted distances to five Boston employment centres\\n        - RAD      index of accessibility to radial highways\\n        - TAX      full-value property-tax rate per $10,000\\n        - PTRATIO  pupil-teacher ratio by town\\n        - B        1000(Bk - 0.63)^2 where Bk is the proportion of blacks by town\\n        - LSTAT    % lower status of the population\\n        - MEDV     Median value of owner-occupied homes in $1000's\\n\\n    :Missing Attribute Values: None\\n\\n    :Creator: Harrison, D. and Rubinfeld, D.L.\\n\\nThis is a copy of UCI ML housing dataset.\\nhttps://archive.ics.uci.edu/ml/machine-learning-databases/housing/\\n\\n\\nThis dataset was taken from the StatLib library which is maintained at Carnegie Mellon University.\\n\\nThe Boston house-price data of Harrison, D. and Rubinfeld, D.L. 'Hedonic\\nprices and the demand for clean air', J. Environ. Economics & Management,\\nvol.5, 81-102, 1978.   Used in Belsley, Kuh & Welsch, 'Regression diagnostics\\n...', Wiley, 1980.   N.B. Various transformations are used in the table on\\npages 244-261 of the latter.\\n\\nThe Boston house-price data has been used in many machine learning papers that address regression\\nproblems.   \\n     \\n.. topic:: References\\n\\n   - Belsley, Kuh & Welsch, 'Regression diagnostics: Identifying Influential Data and Sources of Collinearity', Wiley, 1980. 244-261.\\n   - Quinlan,R. (1993). Combining Instance-Based and Model-Based Learning. In Proceedings on the Tenth International Conference of Machine Learning, 236-243, University of Massachusetts, Amherst. Morgan Kaufmann.\\n\""
            ]
          },
          "execution_count": 3,
          "metadata": {},
          "output_type": "execute_result"
        }
      ]
    },
    {
      "cell_type": "code",
      "metadata": {
        "id": "Vjgpnk4udNJL"
      },
      "source": [
        "import numpy as np\n",
        "import pandas as pd\n",
        "\n",
        "df = pd.DataFrame(data.data, columns=data.feature_names)\n",
        "target = pd.DataFrame(data.target, columns=[\"MEDV\"])"
      ],
      "execution_count": null,
      "outputs": []
    },
    {
      "cell_type": "code",
      "metadata": {
        "id": "ijTshifvdNJM",
        "outputId": "818baeef-35d5-4b06-f6f8-eed24e40ea85"
      },
      "source": [
        "df"
      ],
      "execution_count": null,
      "outputs": [
        {
          "data": {
            "text/html": [
              "<div>\n",
              "<style scoped>\n",
              "    .dataframe tbody tr th:only-of-type {\n",
              "        vertical-align: middle;\n",
              "    }\n",
              "\n",
              "    .dataframe tbody tr th {\n",
              "        vertical-align: top;\n",
              "    }\n",
              "\n",
              "    .dataframe thead th {\n",
              "        text-align: right;\n",
              "    }\n",
              "</style>\n",
              "<table border=\"1\" class=\"dataframe\">\n",
              "  <thead>\n",
              "    <tr style=\"text-align: right;\">\n",
              "      <th></th>\n",
              "      <th>CRIM</th>\n",
              "      <th>ZN</th>\n",
              "      <th>INDUS</th>\n",
              "      <th>CHAS</th>\n",
              "      <th>NOX</th>\n",
              "      <th>RM</th>\n",
              "      <th>AGE</th>\n",
              "      <th>DIS</th>\n",
              "      <th>RAD</th>\n",
              "      <th>TAX</th>\n",
              "      <th>PTRATIO</th>\n",
              "      <th>B</th>\n",
              "      <th>LSTAT</th>\n",
              "    </tr>\n",
              "  </thead>\n",
              "  <tbody>\n",
              "    <tr>\n",
              "      <th>0</th>\n",
              "      <td>0.00632</td>\n",
              "      <td>18.0</td>\n",
              "      <td>2.31</td>\n",
              "      <td>0.0</td>\n",
              "      <td>0.538</td>\n",
              "      <td>6.575</td>\n",
              "      <td>65.2</td>\n",
              "      <td>4.0900</td>\n",
              "      <td>1.0</td>\n",
              "      <td>296.0</td>\n",
              "      <td>15.3</td>\n",
              "      <td>396.90</td>\n",
              "      <td>4.98</td>\n",
              "    </tr>\n",
              "    <tr>\n",
              "      <th>1</th>\n",
              "      <td>0.02731</td>\n",
              "      <td>0.0</td>\n",
              "      <td>7.07</td>\n",
              "      <td>0.0</td>\n",
              "      <td>0.469</td>\n",
              "      <td>6.421</td>\n",
              "      <td>78.9</td>\n",
              "      <td>4.9671</td>\n",
              "      <td>2.0</td>\n",
              "      <td>242.0</td>\n",
              "      <td>17.8</td>\n",
              "      <td>396.90</td>\n",
              "      <td>9.14</td>\n",
              "    </tr>\n",
              "    <tr>\n",
              "      <th>2</th>\n",
              "      <td>0.02729</td>\n",
              "      <td>0.0</td>\n",
              "      <td>7.07</td>\n",
              "      <td>0.0</td>\n",
              "      <td>0.469</td>\n",
              "      <td>7.185</td>\n",
              "      <td>61.1</td>\n",
              "      <td>4.9671</td>\n",
              "      <td>2.0</td>\n",
              "      <td>242.0</td>\n",
              "      <td>17.8</td>\n",
              "      <td>392.83</td>\n",
              "      <td>4.03</td>\n",
              "    </tr>\n",
              "    <tr>\n",
              "      <th>3</th>\n",
              "      <td>0.03237</td>\n",
              "      <td>0.0</td>\n",
              "      <td>2.18</td>\n",
              "      <td>0.0</td>\n",
              "      <td>0.458</td>\n",
              "      <td>6.998</td>\n",
              "      <td>45.8</td>\n",
              "      <td>6.0622</td>\n",
              "      <td>3.0</td>\n",
              "      <td>222.0</td>\n",
              "      <td>18.7</td>\n",
              "      <td>394.63</td>\n",
              "      <td>2.94</td>\n",
              "    </tr>\n",
              "    <tr>\n",
              "      <th>4</th>\n",
              "      <td>0.06905</td>\n",
              "      <td>0.0</td>\n",
              "      <td>2.18</td>\n",
              "      <td>0.0</td>\n",
              "      <td>0.458</td>\n",
              "      <td>7.147</td>\n",
              "      <td>54.2</td>\n",
              "      <td>6.0622</td>\n",
              "      <td>3.0</td>\n",
              "      <td>222.0</td>\n",
              "      <td>18.7</td>\n",
              "      <td>396.90</td>\n",
              "      <td>5.33</td>\n",
              "    </tr>\n",
              "    <tr>\n",
              "      <th>...</th>\n",
              "      <td>...</td>\n",
              "      <td>...</td>\n",
              "      <td>...</td>\n",
              "      <td>...</td>\n",
              "      <td>...</td>\n",
              "      <td>...</td>\n",
              "      <td>...</td>\n",
              "      <td>...</td>\n",
              "      <td>...</td>\n",
              "      <td>...</td>\n",
              "      <td>...</td>\n",
              "      <td>...</td>\n",
              "      <td>...</td>\n",
              "    </tr>\n",
              "    <tr>\n",
              "      <th>501</th>\n",
              "      <td>0.06263</td>\n",
              "      <td>0.0</td>\n",
              "      <td>11.93</td>\n",
              "      <td>0.0</td>\n",
              "      <td>0.573</td>\n",
              "      <td>6.593</td>\n",
              "      <td>69.1</td>\n",
              "      <td>2.4786</td>\n",
              "      <td>1.0</td>\n",
              "      <td>273.0</td>\n",
              "      <td>21.0</td>\n",
              "      <td>391.99</td>\n",
              "      <td>9.67</td>\n",
              "    </tr>\n",
              "    <tr>\n",
              "      <th>502</th>\n",
              "      <td>0.04527</td>\n",
              "      <td>0.0</td>\n",
              "      <td>11.93</td>\n",
              "      <td>0.0</td>\n",
              "      <td>0.573</td>\n",
              "      <td>6.120</td>\n",
              "      <td>76.7</td>\n",
              "      <td>2.2875</td>\n",
              "      <td>1.0</td>\n",
              "      <td>273.0</td>\n",
              "      <td>21.0</td>\n",
              "      <td>396.90</td>\n",
              "      <td>9.08</td>\n",
              "    </tr>\n",
              "    <tr>\n",
              "      <th>503</th>\n",
              "      <td>0.06076</td>\n",
              "      <td>0.0</td>\n",
              "      <td>11.93</td>\n",
              "      <td>0.0</td>\n",
              "      <td>0.573</td>\n",
              "      <td>6.976</td>\n",
              "      <td>91.0</td>\n",
              "      <td>2.1675</td>\n",
              "      <td>1.0</td>\n",
              "      <td>273.0</td>\n",
              "      <td>21.0</td>\n",
              "      <td>396.90</td>\n",
              "      <td>5.64</td>\n",
              "    </tr>\n",
              "    <tr>\n",
              "      <th>504</th>\n",
              "      <td>0.10959</td>\n",
              "      <td>0.0</td>\n",
              "      <td>11.93</td>\n",
              "      <td>0.0</td>\n",
              "      <td>0.573</td>\n",
              "      <td>6.794</td>\n",
              "      <td>89.3</td>\n",
              "      <td>2.3889</td>\n",
              "      <td>1.0</td>\n",
              "      <td>273.0</td>\n",
              "      <td>21.0</td>\n",
              "      <td>393.45</td>\n",
              "      <td>6.48</td>\n",
              "    </tr>\n",
              "    <tr>\n",
              "      <th>505</th>\n",
              "      <td>0.04741</td>\n",
              "      <td>0.0</td>\n",
              "      <td>11.93</td>\n",
              "      <td>0.0</td>\n",
              "      <td>0.573</td>\n",
              "      <td>6.030</td>\n",
              "      <td>80.8</td>\n",
              "      <td>2.5050</td>\n",
              "      <td>1.0</td>\n",
              "      <td>273.0</td>\n",
              "      <td>21.0</td>\n",
              "      <td>396.90</td>\n",
              "      <td>7.88</td>\n",
              "    </tr>\n",
              "  </tbody>\n",
              "</table>\n",
              "<p>506 rows × 13 columns</p>\n",
              "</div>"
            ],
            "text/plain": [
              "        CRIM    ZN  INDUS  CHAS    NOX     RM   AGE     DIS  RAD    TAX  \\\n",
              "0    0.00632  18.0   2.31   0.0  0.538  6.575  65.2  4.0900  1.0  296.0   \n",
              "1    0.02731   0.0   7.07   0.0  0.469  6.421  78.9  4.9671  2.0  242.0   \n",
              "2    0.02729   0.0   7.07   0.0  0.469  7.185  61.1  4.9671  2.0  242.0   \n",
              "3    0.03237   0.0   2.18   0.0  0.458  6.998  45.8  6.0622  3.0  222.0   \n",
              "4    0.06905   0.0   2.18   0.0  0.458  7.147  54.2  6.0622  3.0  222.0   \n",
              "..       ...   ...    ...   ...    ...    ...   ...     ...  ...    ...   \n",
              "501  0.06263   0.0  11.93   0.0  0.573  6.593  69.1  2.4786  1.0  273.0   \n",
              "502  0.04527   0.0  11.93   0.0  0.573  6.120  76.7  2.2875  1.0  273.0   \n",
              "503  0.06076   0.0  11.93   0.0  0.573  6.976  91.0  2.1675  1.0  273.0   \n",
              "504  0.10959   0.0  11.93   0.0  0.573  6.794  89.3  2.3889  1.0  273.0   \n",
              "505  0.04741   0.0  11.93   0.0  0.573  6.030  80.8  2.5050  1.0  273.0   \n",
              "\n",
              "     PTRATIO       B  LSTAT  \n",
              "0       15.3  396.90   4.98  \n",
              "1       17.8  396.90   9.14  \n",
              "2       17.8  392.83   4.03  \n",
              "3       18.7  394.63   2.94  \n",
              "4       18.7  396.90   5.33  \n",
              "..       ...     ...    ...  \n",
              "501     21.0  391.99   9.67  \n",
              "502     21.0  396.90   9.08  \n",
              "503     21.0  396.90   5.64  \n",
              "504     21.0  393.45   6.48  \n",
              "505     21.0  396.90   7.88  \n",
              "\n",
              "[506 rows x 13 columns]"
            ]
          },
          "execution_count": 5,
          "metadata": {},
          "output_type": "execute_result"
        }
      ]
    },
    {
      "cell_type": "code",
      "metadata": {
        "id": "456JDtyPdNJO",
        "outputId": "0b150c51-b6f5-4415-fe91-e8b8d800b4f3"
      },
      "source": [
        "target.head()"
      ],
      "execution_count": null,
      "outputs": [
        {
          "data": {
            "text/html": [
              "<div>\n",
              "<style scoped>\n",
              "    .dataframe tbody tr th:only-of-type {\n",
              "        vertical-align: middle;\n",
              "    }\n",
              "\n",
              "    .dataframe tbody tr th {\n",
              "        vertical-align: top;\n",
              "    }\n",
              "\n",
              "    .dataframe thead th {\n",
              "        text-align: right;\n",
              "    }\n",
              "</style>\n",
              "<table border=\"1\" class=\"dataframe\">\n",
              "  <thead>\n",
              "    <tr style=\"text-align: right;\">\n",
              "      <th></th>\n",
              "      <th>MEDV</th>\n",
              "    </tr>\n",
              "  </thead>\n",
              "  <tbody>\n",
              "    <tr>\n",
              "      <th>0</th>\n",
              "      <td>24.0</td>\n",
              "    </tr>\n",
              "    <tr>\n",
              "      <th>1</th>\n",
              "      <td>21.6</td>\n",
              "    </tr>\n",
              "    <tr>\n",
              "      <th>2</th>\n",
              "      <td>34.7</td>\n",
              "    </tr>\n",
              "    <tr>\n",
              "      <th>3</th>\n",
              "      <td>33.4</td>\n",
              "    </tr>\n",
              "    <tr>\n",
              "      <th>4</th>\n",
              "      <td>36.2</td>\n",
              "    </tr>\n",
              "  </tbody>\n",
              "</table>\n",
              "</div>"
            ],
            "text/plain": [
              "   MEDV\n",
              "0  24.0\n",
              "1  21.6\n",
              "2  34.7\n",
              "3  33.4\n",
              "4  36.2"
            ]
          },
          "execution_count": 6,
          "metadata": {},
          "output_type": "execute_result"
        }
      ]
    },
    {
      "cell_type": "code",
      "metadata": {
        "id": "57xjkTQcdNJQ",
        "outputId": "66eb9a76-7007-4d2e-97c1-dd8298a48320"
      },
      "source": [
        "import statsmodels.api as sm\n",
        "\n",
        "X = df[\"RM\"]\n",
        "y = target[\"MEDV\"]\n",
        "\n",
        "\n",
        "simplereg_model = sm.OLS(y, X).fit()\n",
        "predictions = simplereg_model.predict(X) \n",
        "\n",
        "simplereg_model.summary()"
      ],
      "execution_count": null,
      "outputs": [
        {
          "data": {
            "text/html": [
              "<table class=\"simpletable\">\n",
              "<caption>OLS Regression Results</caption>\n",
              "<tr>\n",
              "  <th>Dep. Variable:</th>          <td>MEDV</td>       <th>  R-squared (uncentered):</th>      <td>   0.901</td> \n",
              "</tr>\n",
              "<tr>\n",
              "  <th>Model:</th>                   <td>OLS</td>       <th>  Adj. R-squared (uncentered):</th> <td>   0.901</td> \n",
              "</tr>\n",
              "<tr>\n",
              "  <th>Method:</th>             <td>Least Squares</td>  <th>  F-statistic:       </th>          <td>   4615.</td> \n",
              "</tr>\n",
              "<tr>\n",
              "  <th>Date:</th>             <td>Wed, 29 Sep 2021</td> <th>  Prob (F-statistic):</th>          <td>3.74e-256</td>\n",
              "</tr>\n",
              "<tr>\n",
              "  <th>Time:</th>                 <td>16:41:52</td>     <th>  Log-Likelihood:    </th>          <td> -1747.1</td> \n",
              "</tr>\n",
              "<tr>\n",
              "  <th>No. Observations:</th>      <td>   506</td>      <th>  AIC:               </th>          <td>   3496.</td> \n",
              "</tr>\n",
              "<tr>\n",
              "  <th>Df Residuals:</th>          <td>   505</td>      <th>  BIC:               </th>          <td>   3500.</td> \n",
              "</tr>\n",
              "<tr>\n",
              "  <th>Df Model:</th>              <td>     1</td>      <th>                     </th>              <td> </td>    \n",
              "</tr>\n",
              "<tr>\n",
              "  <th>Covariance Type:</th>      <td>nonrobust</td>    <th>                     </th>              <td> </td>    \n",
              "</tr>\n",
              "</table>\n",
              "<table class=\"simpletable\">\n",
              "<tr>\n",
              "   <td></td>     <th>coef</th>     <th>std err</th>      <th>t</th>      <th>P>|t|</th>  <th>[0.025</th>    <th>0.975]</th>  \n",
              "</tr>\n",
              "<tr>\n",
              "  <th>RM</th> <td>    3.6534</td> <td>    0.054</td> <td>   67.930</td> <td> 0.000</td> <td>    3.548</td> <td>    3.759</td>\n",
              "</tr>\n",
              "</table>\n",
              "<table class=\"simpletable\">\n",
              "<tr>\n",
              "  <th>Omnibus:</th>       <td>83.295</td> <th>  Durbin-Watson:     </th> <td>   0.493</td>\n",
              "</tr>\n",
              "<tr>\n",
              "  <th>Prob(Omnibus):</th> <td> 0.000</td> <th>  Jarque-Bera (JB):  </th> <td> 152.507</td>\n",
              "</tr>\n",
              "<tr>\n",
              "  <th>Skew:</th>          <td> 0.955</td> <th>  Prob(JB):          </th> <td>7.65e-34</td>\n",
              "</tr>\n",
              "<tr>\n",
              "  <th>Kurtosis:</th>      <td> 4.894</td> <th>  Cond. No.          </th> <td>    1.00</td>\n",
              "</tr>\n",
              "</table><br/><br/>Notes:<br/>[1] R² is computed without centering (uncentered) since the model does not contain a constant.<br/>[2] Standard Errors assume that the covariance matrix of the errors is correctly specified."
            ],
            "text/plain": [
              "<class 'statsmodels.iolib.summary.Summary'>\n",
              "\"\"\"\n",
              "                                 OLS Regression Results                                \n",
              "=======================================================================================\n",
              "Dep. Variable:                   MEDV   R-squared (uncentered):                   0.901\n",
              "Model:                            OLS   Adj. R-squared (uncentered):              0.901\n",
              "Method:                 Least Squares   F-statistic:                              4615.\n",
              "Date:                Wed, 29 Sep 2021   Prob (F-statistic):                   3.74e-256\n",
              "Time:                        16:41:52   Log-Likelihood:                         -1747.1\n",
              "No. Observations:                 506   AIC:                                      3496.\n",
              "Df Residuals:                     505   BIC:                                      3500.\n",
              "Df Model:                           1                                                  \n",
              "Covariance Type:            nonrobust                                                  \n",
              "==============================================================================\n",
              "                 coef    std err          t      P>|t|      [0.025      0.975]\n",
              "------------------------------------------------------------------------------\n",
              "RM             3.6534      0.054     67.930      0.000       3.548       3.759\n",
              "==============================================================================\n",
              "Omnibus:                       83.295   Durbin-Watson:                   0.493\n",
              "Prob(Omnibus):                  0.000   Jarque-Bera (JB):              152.507\n",
              "Skew:                           0.955   Prob(JB):                     7.65e-34\n",
              "Kurtosis:                       4.894   Cond. No.                         1.00\n",
              "==============================================================================\n",
              "\n",
              "Notes:\n",
              "[1] R² is computed without centering (uncentered) since the model does not contain a constant.\n",
              "[2] Standard Errors assume that the covariance matrix of the errors is correctly specified.\n",
              "\"\"\""
            ]
          },
          "execution_count": 32,
          "metadata": {},
          "output_type": "execute_result"
        }
      ]
    },
    {
      "cell_type": "code",
      "metadata": {
        "id": "xyv31HUJdNJT",
        "outputId": "15326ffa-466e-4ba7-8522-776861da2bf7"
      },
      "source": [
        "X = df[[\"RM\",\"LSTAT\"]] \n",
        "y = target[\"MEDV\"] \n",
        "\n",
        "multiplereg_model = sm.OLS(y, X).fit() ## sm.OLS(output, input)\n",
        "predictions = multiplereg_model.predict(X)\n",
        "\n",
        "\n",
        "multiplereg_model.summary()"
      ],
      "execution_count": null,
      "outputs": [
        {
          "data": {
            "text/html": [
              "<table class=\"simpletable\">\n",
              "<caption>OLS Regression Results</caption>\n",
              "<tr>\n",
              "  <th>Dep. Variable:</th>          <td>MEDV</td>       <th>  R-squared (uncentered):</th>      <td>   0.948</td>\n",
              "</tr>\n",
              "<tr>\n",
              "  <th>Model:</th>                   <td>OLS</td>       <th>  Adj. R-squared (uncentered):</th> <td>   0.948</td>\n",
              "</tr>\n",
              "<tr>\n",
              "  <th>Method:</th>             <td>Least Squares</td>  <th>  F-statistic:       </th>          <td>   4637.</td>\n",
              "</tr>\n",
              "<tr>\n",
              "  <th>Date:</th>             <td>Wed, 29 Sep 2021</td> <th>  Prob (F-statistic):</th>           <td>  0.00</td> \n",
              "</tr>\n",
              "<tr>\n",
              "  <th>Time:</th>                 <td>16:41:04</td>     <th>  Log-Likelihood:    </th>          <td> -1582.9</td>\n",
              "</tr>\n",
              "<tr>\n",
              "  <th>No. Observations:</th>      <td>   506</td>      <th>  AIC:               </th>          <td>   3170.</td>\n",
              "</tr>\n",
              "<tr>\n",
              "  <th>Df Residuals:</th>          <td>   504</td>      <th>  BIC:               </th>          <td>   3178.</td>\n",
              "</tr>\n",
              "<tr>\n",
              "  <th>Df Model:</th>              <td>     2</td>      <th>                     </th>              <td> </td>   \n",
              "</tr>\n",
              "<tr>\n",
              "  <th>Covariance Type:</th>      <td>nonrobust</td>    <th>                     </th>              <td> </td>   \n",
              "</tr>\n",
              "</table>\n",
              "<table class=\"simpletable\">\n",
              "<tr>\n",
              "    <td></td>       <th>coef</th>     <th>std err</th>      <th>t</th>      <th>P>|t|</th>  <th>[0.025</th>    <th>0.975]</th>  \n",
              "</tr>\n",
              "<tr>\n",
              "  <th>RM</th>    <td>    4.9069</td> <td>    0.070</td> <td>   69.906</td> <td> 0.000</td> <td>    4.769</td> <td>    5.045</td>\n",
              "</tr>\n",
              "<tr>\n",
              "  <th>LSTAT</th> <td>   -0.6557</td> <td>    0.031</td> <td>  -21.458</td> <td> 0.000</td> <td>   -0.716</td> <td>   -0.596</td>\n",
              "</tr>\n",
              "</table>\n",
              "<table class=\"simpletable\">\n",
              "<tr>\n",
              "  <th>Omnibus:</th>       <td>145.153</td> <th>  Durbin-Watson:     </th> <td>   0.834</td>\n",
              "</tr>\n",
              "<tr>\n",
              "  <th>Prob(Omnibus):</th> <td> 0.000</td>  <th>  Jarque-Bera (JB):  </th> <td> 442.157</td>\n",
              "</tr>\n",
              "<tr>\n",
              "  <th>Skew:</th>          <td> 1.351</td>  <th>  Prob(JB):          </th> <td>9.70e-97</td>\n",
              "</tr>\n",
              "<tr>\n",
              "  <th>Kurtosis:</th>      <td> 6.698</td>  <th>  Cond. No.          </th> <td>    4.72</td>\n",
              "</tr>\n",
              "</table><br/><br/>Notes:<br/>[1] R² is computed without centering (uncentered) since the model does not contain a constant.<br/>[2] Standard Errors assume that the covariance matrix of the errors is correctly specified."
            ],
            "text/plain": [
              "<class 'statsmodels.iolib.summary.Summary'>\n",
              "\"\"\"\n",
              "                                 OLS Regression Results                                \n",
              "=======================================================================================\n",
              "Dep. Variable:                   MEDV   R-squared (uncentered):                   0.948\n",
              "Model:                            OLS   Adj. R-squared (uncentered):              0.948\n",
              "Method:                 Least Squares   F-statistic:                              4637.\n",
              "Date:                Wed, 29 Sep 2021   Prob (F-statistic):                        0.00\n",
              "Time:                        16:41:04   Log-Likelihood:                         -1582.9\n",
              "No. Observations:                 506   AIC:                                      3170.\n",
              "Df Residuals:                     504   BIC:                                      3178.\n",
              "Df Model:                           2                                                  \n",
              "Covariance Type:            nonrobust                                                  \n",
              "==============================================================================\n",
              "                 coef    std err          t      P>|t|      [0.025      0.975]\n",
              "------------------------------------------------------------------------------\n",
              "RM             4.9069      0.070     69.906      0.000       4.769       5.045\n",
              "LSTAT         -0.6557      0.031    -21.458      0.000      -0.716      -0.596\n",
              "==============================================================================\n",
              "Omnibus:                      145.153   Durbin-Watson:                   0.834\n",
              "Prob(Omnibus):                  0.000   Jarque-Bera (JB):              442.157\n",
              "Skew:                           1.351   Prob(JB):                     9.70e-97\n",
              "Kurtosis:                       6.698   Cond. No.                         4.72\n",
              "==============================================================================\n",
              "\n",
              "Notes:\n",
              "[1] R² is computed without centering (uncentered) since the model does not contain a constant.\n",
              "[2] Standard Errors assume that the covariance matrix of the errors is correctly specified.\n",
              "\"\"\""
            ]
          },
          "execution_count": 31,
          "metadata": {},
          "output_type": "execute_result"
        }
      ]
    },
    {
      "cell_type": "markdown",
      "metadata": {
        "id": "RArP_B4idNJZ"
      },
      "source": [
        "R-square increases as we add variables to a regression model, however this is a very high R-square. Both RM and LSTAT are statistically significant in predicting (or estimating) the median house value; not unexpectedly, as RM grows by one, MEDV increases by 4.9, whereas LSTAT increases by one, MEDV decreases by -0.6."
      ]
    },
    {
      "cell_type": "code",
      "metadata": {
        "id": "y_5XM4qbdNJj"
      },
      "source": [
        "from sklearn import linear_model"
      ],
      "execution_count": null,
      "outputs": []
    },
    {
      "cell_type": "code",
      "metadata": {
        "id": "NrFMJnS-dNJp"
      },
      "source": [
        "from sklearn import datasets ## imports datasets from scikit-learn\n",
        "data = datasets.load_boston() ## loads Boston dataset from datasets library"
      ],
      "execution_count": null,
      "outputs": []
    },
    {
      "cell_type": "code",
      "metadata": {
        "id": "Zo2RTJqKdNJu"
      },
      "source": [
        "# define the data/predictors as the pre-set feature names  \n",
        "df = pd.DataFrame(data.data, columns=data.feature_names)\n",
        "\n",
        "# Put the target (housing value -- MEDV) in another DataFrame\n",
        "target = pd.DataFrame(data.target, columns=[\"MEDV\"])"
      ],
      "execution_count": null,
      "outputs": []
    },
    {
      "cell_type": "code",
      "metadata": {
        "id": "Mu_VJ_vYdNJy"
      },
      "source": [
        "X = df\n",
        "y = target[\"MEDV\"]"
      ],
      "execution_count": null,
      "outputs": []
    },
    {
      "cell_type": "code",
      "metadata": {
        "id": "ofwopHE0dNJ0"
      },
      "source": [
        "lm = linear_model.LinearRegression()\n",
        "model = lm.fit(X,y)"
      ],
      "execution_count": null,
      "outputs": []
    },
    {
      "cell_type": "code",
      "metadata": {
        "id": "CbB23va1dNJ2",
        "outputId": "80c21648-0f32-4f41-dc76-72d7c49de1b1"
      },
      "source": [
        "predictions = lm.predict(X)\n",
        "print(predictions)"
      ],
      "execution_count": null,
      "outputs": [
        {
          "name": "stdout",
          "output_type": "stream",
          "text": [
            "[30.00384338 25.02556238 30.56759672 28.60703649 27.94352423 25.25628446\n",
            " 23.00180827 19.53598843 11.52363685 18.92026211 18.99949651 21.58679568\n",
            " 20.90652153 19.55290281 19.28348205 19.29748321 20.52750979 16.91140135\n",
            " 16.17801106 18.40613603 12.52385753 17.67103669 15.83288129 13.80628535\n",
            " 15.67833832 13.38668561 15.46397655 14.70847428 19.54737285 20.8764282\n",
            " 11.45511759 18.05923295  8.81105736 14.28275814 13.70675891 23.81463526\n",
            " 22.34193708 23.10891142 22.91502612 31.35762569 34.21510225 28.02056414\n",
            " 25.20386628 24.60979273 22.94149176 22.09669817 20.42320032 18.03655088\n",
            "  9.10655377 17.20607751 21.28152535 23.97222285 27.6558508  24.04901809\n",
            " 15.3618477  31.15264947 24.85686978 33.10919806 21.77537987 21.08493555\n",
            " 17.8725804  18.51110208 23.98742856 22.55408869 23.37308644 30.36148358\n",
            " 25.53056512 21.11338564 17.42153786 20.78483633 25.20148859 21.7426577\n",
            " 24.55744957 24.04295712 25.50499716 23.9669302  22.94545403 23.35699818\n",
            " 21.26198266 22.42817373 28.40576968 26.99486086 26.03576297 25.05873482\n",
            " 24.78456674 27.79049195 22.16853423 25.89276415 30.67461827 30.83110623\n",
            " 27.1190194  27.41266734 28.94122762 29.08105546 27.03977365 28.62459949\n",
            " 24.72744978 35.78159518 35.11454587 32.25102801 24.58022019 25.59413475\n",
            " 19.79013684 20.31167129 21.43482591 18.53994008 17.18755992 20.75049026\n",
            " 22.64829115 19.7720367  20.64965864 26.52586744 20.77323638 20.71548315\n",
            " 25.17208881 20.43025591 23.37724626 23.69043261 20.33578364 20.79180873\n",
            " 21.91632071 22.47107777 20.55738556 16.36661977 20.56099819 22.48178446\n",
            " 14.61706633 15.17876684 18.93868592 14.05573285 20.03527399 19.41013402\n",
            " 20.06191566 15.75807673 13.25645238 17.26277735 15.87841883 19.36163954\n",
            " 13.81483897 16.44881475 13.57141932  3.98885508 14.59495478 12.1488148\n",
            "  8.72822362 12.03585343 15.82082058  8.5149902   9.71844139 14.80451374\n",
            " 20.83858153 18.30101169 20.12282558 17.28601894 22.36600228 20.10375923\n",
            " 13.62125891 33.25982697 29.03017268 25.56752769 32.70827666 36.77467015\n",
            " 40.55765844 41.84728168 24.78867379 25.37889238 37.20347455 23.08748747\n",
            " 26.40273955 26.65382114 22.5551466  24.29082812 22.97657219 29.07194308\n",
            " 26.5219434  30.72209056 25.61669307 29.13740979 31.43571968 32.92231568\n",
            " 34.72440464 27.76552111 33.88787321 30.99238036 22.71820008 24.7664781\n",
            " 35.88497226 33.42476722 32.41199147 34.51509949 30.76109485 30.28934141\n",
            " 32.91918714 32.11260771 31.55871004 40.84555721 36.12770079 32.6692081\n",
            " 34.70469116 30.09345162 30.64393906 29.28719501 37.07148392 42.03193124\n",
            " 43.18949844 22.69034796 23.68284712 17.85447214 23.49428992 17.00587718\n",
            " 22.39251096 17.06042754 22.73892921 25.21942554 11.11916737 24.51049148\n",
            " 26.60334775 28.35518713 24.91525464 29.68652768 33.18419746 23.77456656\n",
            " 32.14051958 29.7458199  38.37102453 39.81461867 37.58605755 32.3995325\n",
            " 35.45665242 31.23411512 24.48449227 33.28837292 38.0481048  37.16328631\n",
            " 31.71383523 25.26705571 30.10010745 32.71987156 28.42717057 28.42940678\n",
            " 27.29375938 23.74262478 24.12007891 27.40208414 16.3285756  13.39891261\n",
            " 20.01638775 19.86184428 21.2883131  24.0798915  24.20633547 25.04215821\n",
            " 24.91964007 29.94563374 23.97228316 21.69580887 37.51109239 43.30239043\n",
            " 36.48361421 34.98988594 34.81211508 37.16631331 40.98928501 34.44634089\n",
            " 35.83397547 28.245743   31.22673593 40.8395575  39.31792393 25.70817905\n",
            " 22.30295533 27.20340972 28.51169472 35.47676598 36.10639164 33.79668274\n",
            " 35.61085858 34.83993382 30.35192656 35.30980701 38.79756966 34.33123186\n",
            " 40.33963075 44.67308339 31.59689086 27.3565923  20.10174154 27.04206674\n",
            " 27.2136458  26.91395839 33.43563311 34.40349633 31.8333982  25.81783237\n",
            " 24.42982348 28.45764337 27.36266999 19.53928758 29.11309844 31.91054611\n",
            " 30.77159449 28.94275871 28.88191022 32.79887232 33.20905456 30.76831792\n",
            " 35.56226857 32.70905124 28.64244237 23.58965827 18.54266897 26.87889843\n",
            " 23.28133979 25.54580246 25.48120057 20.53909901 17.61572573 18.37581686\n",
            " 24.29070277 21.32529039 24.88682244 24.86937282 22.86952447 19.45123791\n",
            " 25.11783401 24.66786913 23.68076177 19.34089616 21.17418105 24.25249073\n",
            " 21.59260894 19.98446605 23.33888    22.14060692 21.55509929 20.61872907\n",
            " 20.16097176 19.28490387 22.1667232  21.24965774 21.42939305 30.32788796\n",
            " 22.04734975 27.70647912 28.54794117 16.54501121 14.78359641 25.27380082\n",
            " 27.54205117 22.14837562 20.45944095 20.54605423 16.88063827 25.40253506\n",
            " 14.32486632 16.59488462 19.63704691 22.71806607 22.20218887 19.20548057\n",
            " 22.66616105 18.93192618 18.22846804 20.23150811 37.4944739  14.28190734\n",
            " 15.54286248 10.83162324 23.80072902 32.6440736  34.60684042 24.94331333\n",
            " 25.9998091   6.126325    0.77779806 25.30713064 17.74061065 20.23274414\n",
            " 15.83331301 16.83512587 14.36994825 18.47682833 13.4276828  13.06177512\n",
            "  3.27918116  8.06022171  6.12842196  5.6186481   6.4519857  14.20764735\n",
            " 17.21225183 17.29887265  9.89116643 20.22124193 17.94181175 20.30445783\n",
            " 19.29559075 16.33632779  6.55162319 10.89016778 11.88145871 17.81174507\n",
            " 18.26126587 12.97948781  7.37816361  8.21115861  8.06626193 19.98294786\n",
            " 13.70756369 19.85268454 15.22308298 16.96071981  1.71851807 11.80578387\n",
            " -4.28131071  9.58376737 13.36660811  6.89562363  6.14779852 14.60661794\n",
            " 19.6000267  18.12427476 18.52177132 13.1752861  14.62617624  9.92374976\n",
            " 16.34590647 14.07519426 14.25756243 13.04234787 18.15955693 18.69554354\n",
            " 21.527283   17.03141861 15.96090435 13.36141611 14.52079384  8.81976005\n",
            "  4.86751102 13.06591313 12.70609699 17.29558059 18.740485   18.05901029\n",
            " 11.51474683 11.97400359 17.68344618 18.12695239 17.5183465  17.22742507\n",
            " 16.52271631 19.41291095 18.58215236 22.48944791 15.28000133 15.82089335\n",
            " 12.68725581 12.8763379  17.18668531 18.51247609 19.04860533 20.17208927\n",
            " 19.7740732  22.42940768 20.31911854 17.88616253 14.37478523 16.94776851\n",
            " 16.98405762 18.58838397 20.16719441 22.97718032 22.45580726 25.57824627\n",
            " 16.39147632 16.1114628  20.534816   11.54272738 19.20496304 21.86276391\n",
            " 23.46878866 27.09887315 28.56994302 21.08398783 19.45516196 22.22225914\n",
            " 19.65591961 21.32536104 11.85583717  8.22386687  3.66399672 13.75908538\n",
            " 15.93118545 20.62662054 20.61249414 16.88541964 14.01320787 19.10854144\n",
            " 21.29805174 18.45498841 20.46870847 23.53334055 22.37571892 27.6274261\n",
            " 26.12796681 22.34421229]\n"
          ]
        }
      ]
    },
    {
      "cell_type": "code",
      "metadata": {
        "id": "pdCTyglldNJ5",
        "outputId": "faebfa42-0e1a-43b6-c461-9ca44e0ffc84"
      },
      "source": [
        "lm.score(X,y)"
      ],
      "execution_count": null,
      "outputs": [
        {
          "data": {
            "text/plain": [
              "0.7406426641094094"
            ]
          },
          "execution_count": 16,
          "metadata": {},
          "output_type": "execute_result"
        }
      ]
    },
    {
      "cell_type": "code",
      "metadata": {
        "id": "-Xso_iXxdNJ6",
        "outputId": "a42cf89e-0608-43bb-9d44-65578954ae11"
      },
      "source": [
        "lm.coef_"
      ],
      "execution_count": null,
      "outputs": [
        {
          "data": {
            "text/plain": [
              "array([-1.08011358e-01,  4.64204584e-02,  2.05586264e-02,  2.68673382e+00,\n",
              "       -1.77666112e+01,  3.80986521e+00,  6.92224640e-04, -1.47556685e+00,\n",
              "        3.06049479e-01, -1.23345939e-02, -9.52747232e-01,  9.31168327e-03,\n",
              "       -5.24758378e-01])"
            ]
          },
          "execution_count": 17,
          "metadata": {},
          "output_type": "execute_result"
        }
      ]
    },
    {
      "cell_type": "code",
      "metadata": {
        "id": "lc0zcP_edNJ8",
        "outputId": "090564c5-491c-431b-e125-189217ada2b0"
      },
      "source": [
        "lm.intercept_"
      ],
      "execution_count": null,
      "outputs": [
        {
          "data": {
            "text/plain": [
              "36.45948838509011"
            ]
          },
          "execution_count": 18,
          "metadata": {},
          "output_type": "execute_result"
        }
      ]
    },
    {
      "cell_type": "code",
      "metadata": {
        "id": "hv-Wp5WZdNJ-"
      },
      "source": [
        ""
      ],
      "execution_count": null,
      "outputs": []
    }
  ]
}